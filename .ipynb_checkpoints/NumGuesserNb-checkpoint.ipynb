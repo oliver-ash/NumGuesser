{
 "cells": [
  {
   "cell_type": "code",
   "execution_count": 1,
   "id": "71aa745a",
   "metadata": {},
   "outputs": [
    {
     "name": "stdout",
     "output_type": "stream",
     "text": [
      "hello world\n"
     ]
    }
   ],
   "source": [
    "print('hello world')"
   ]
  },
  {
   "cell_type": "code",
   "execution_count": 2,
   "id": "3f53f01f",
   "metadata": {
    "scrolled": true
   },
   "outputs": [
    {
     "name": "stdout",
     "output_type": "stream",
     "text": [
      "comments are not executed\n"
     ]
    },
    {
     "data": {
      "text/plain": [
       "'\\nthis is a multi-line comment\\nit can span multiple lines\\n'"
      ]
     },
     "execution_count": 2,
     "metadata": {},
     "output_type": "execute_result"
    }
   ],
   "source": [
    "# this is a single-line comment\n",
    "print ('comments are not executed') # inline comment\n",
    "'''\n",
    "this is a multi-line comment\n",
    "it can span multiple lines\n",
    "'''\n"
   ]
  },
  {
   "cell_type": "code",
   "execution_count": 3,
   "id": "3794b969",
   "metadata": {},
   "outputs": [
    {
     "name": "stdout",
     "output_type": "stream",
     "text": [
      "10 python is fun!\n"
     ]
    }
   ],
   "source": [
    "my_number = 10\n",
    "my_string = 'python is fun!'\n",
    "print(my_number, my_string)"
   ]
  },
  {
   "cell_type": "code",
   "execution_count": 4,
   "id": "e1aaba87",
   "metadata": {},
   "outputs": [
    {
     "name": "stdout",
     "output_type": "stream",
     "text": [
      "20 20.5\n"
     ]
    }
   ],
   "source": [
    "my_int = 20\n",
    "my_float = 20.5\n",
    "print(my_int, my_float)"
   ]
  },
  {
   "cell_type": "code",
   "execution_count": 7,
   "id": "bf1e9755",
   "metadata": {},
   "outputs": [
    {
     "name": "stdout",
     "output_type": "stream",
     "text": [
      "John Doe\n"
     ]
    }
   ],
   "source": [
    "first_name = 'John'\n",
    "last_name = 'Doe'\n",
    "full_name = first_name + ' ' + last_name\n",
    "print(full_name)"
   ]
  },
  {
   "cell_type": "code",
   "execution_count": 9,
   "id": "9ba309c1",
   "metadata": {},
   "outputs": [
    {
     "name": "stdout",
     "output_type": "stream",
     "text": [
      "60\n"
     ]
    }
   ],
   "source": [
    "num_string = '50'\n",
    "num_int = int(num_string) # convert string to int\n",
    "print(num_int + 10) # now you can add numbers to it"
   ]
  },
  {
   "cell_type": "code",
   "execution_count": 10,
   "id": "966839ea",
   "metadata": {},
   "outputs": [
    {
     "name": "stdout",
     "output_type": "stream",
     "text": [
      "Enter your name: Oliver\n",
      "Hello, Oliver!\n"
     ]
    }
   ],
   "source": [
    "user_name = input('Enter your name: ')\n",
    "print('Hello, ' + user_name + \"!\")"
   ]
  },
  {
   "cell_type": "code",
   "execution_count": 12,
   "id": "02f3e1bc",
   "metadata": {},
   "outputs": [
    {
     "name": "stdout",
     "output_type": "stream",
     "text": [
      "I am 30 years old\n"
     ]
    }
   ],
   "source": [
    "age = 30\n",
    "print(f'I am {age} years old')"
   ]
  },
  {
   "cell_type": "code",
   "execution_count": 6,
   "id": "eebdb2ce",
   "metadata": {},
   "outputs": [
    {
     "name": "stdout",
     "output_type": "stream",
     "text": [
      "Enter your first number: 10\n",
      "Enter your second number: 0\n",
      "\n",
      "        Sum: 10.0\n",
      "        Difference: 10.0\n",
      "        Product: 0.0\n",
      "        Quotient: Infinity (division by zero is not allowed)\n"
     ]
    }
   ],
   "source": [
    "# Basic Calculator\n",
    "# ask the user for two numbers\n",
    "num1 = float(input('Enter your first number: '))\n",
    "num2 = float(input('Enter your second number: '))\n",
    "\n",
    "# sum, difference, product, quotient\n",
    "add = num1 + num2\n",
    "minus = num1 - num2\n",
    "product = num1 * num2\n",
    "# attempt division, handling division by zero\n",
    "if num2 == 0:\n",
    "    quotient = 'Infinity (division by zero is not allowed)'\n",
    "else:\n",
    "    quotient = num1 / num2\n",
    "\n",
    "# print results\n",
    "print (f'''\n",
    "        Sum: {add}\n",
    "        Difference: {minus}\n",
    "        Product: {product}\n",
    "        Quotient: {quotient}''')"
   ]
  },
  {
   "cell_type": "code",
   "execution_count": 21,
   "id": "ea9ee9c0",
   "metadata": {},
   "outputs": [
    {
     "name": "stdout",
     "output_type": "stream",
     "text": [
      "Enter your number for neg/pos/zero check: -502\n",
      "Number is negative\n",
      "Number is even\n"
     ]
    }
   ],
   "source": [
    "# Number Evaluator\n",
    "# ask user for number\n",
    "num = float(input('Enter your number for neg/pos/zero check: '))\n",
    "\n",
    "# evaluation of sign\n",
    "if num == 0:\n",
    "    print('Number is zero')\n",
    "elif num < 0:\n",
    "    print('Number is negative')\n",
    "else:\n",
    "    print('Number is positive')\n",
    "    \n",
    "# evaluation of evenness or oddness\n",
    "if num == 0:\n",
    "    print('Number is zero')\n",
    "elif num % 2 == 0:\n",
    "    print('Number is even')\n",
    "else: \n",
    "    print ('Number is odd')"
   ]
  },
  {
   "cell_type": "code",
   "execution_count": 24,
   "id": "89b57d33",
   "metadata": {},
   "outputs": [
    {
     "name": "stdout",
     "output_type": "stream",
     "text": [
      "Count is:  0\n",
      "Count is:  1\n",
      "Count is:  2\n",
      "Count is:  3\n",
      "Count is:  4\n",
      "Count is:  5\n"
     ]
    }
   ],
   "source": [
    "# count to 5\n",
    "count = 0\n",
    "while count <= 5: \n",
    "    print ('Count is: ', count)\n",
    "    count += 1"
   ]
  },
  {
   "cell_type": "code",
   "execution_count": 25,
   "id": "4deeb0b5",
   "metadata": {},
   "outputs": [
    {
     "name": "stdout",
     "output_type": "stream",
     "text": [
      "Type \"exit\" to quit: exit\n"
     ]
    }
   ],
   "source": [
    "# escaping an infinite loop\n",
    "while True: \n",
    "    user_input = input('Type \"exit\" to quit: ')\n",
    "    if user_input == 'exit':\n",
    "        break"
   ]
  },
  {
   "cell_type": "code",
   "execution_count": 33,
   "id": "ac12d5f4",
   "metadata": {},
   "outputs": [
    {
     "name": "stdout",
     "output_type": "stream",
     "text": [
      "Current fruit:  🍒 \n",
      "Current fruit:  🍏\n",
      "Current fruit:  🍌\n"
     ]
    }
   ],
   "source": [
    "# fruit timer\n",
    "fruits = ['🍒 ' , '🍏' , '🍌' ]\n",
    "for fruit in fruits:\n",
    "    print('Current fruit: ', fruit)"
   ]
  },
  {
   "cell_type": "code",
   "execution_count": 29,
   "id": "c30d1476",
   "metadata": {},
   "outputs": [
    {
     "name": "stdout",
     "output_type": "stream",
     "text": [
      "Number is: 0\n",
      "Number is: 1\n",
      "Number is: 2\n",
      "Number is: 3\n",
      "Number is: 4\n",
      "Number is: 5\n"
     ]
    }
   ],
   "source": [
    "# alternate count to 5\n",
    "for i in range(6): # generates numbers 0 to 4\n",
    "    print('Number is:', i)"
   ]
  },
  {
   "cell_type": "code",
   "execution_count": 35,
   "id": "6ba4532f",
   "metadata": {},
   "outputs": [
    {
     "name": "stdout",
     "output_type": "stream",
     "text": [
      "i = 🍒 , j=0\n",
      "i = 🍒 , j=1\n",
      "i = 🍏, j=0\n",
      "i = 🍏, j=1\n",
      "i = 🍌, j=0\n",
      "i = 🍌, j=1\n"
     ]
    }
   ],
   "source": [
    "# nested loop\n",
    "for fruit in fruits: # outer loop\n",
    "    for j in range(2): # inner loop\n",
    "        print(f'i = {fruit}, j={j}')"
   ]
  },
  {
   "cell_type": "code",
   "execution_count": 38,
   "id": "4e0d6d9e",
   "metadata": {},
   "outputs": [
    {
     "name": "stdout",
     "output_type": "stream",
     "text": [
      "1 x 1 = 1\n",
      "1 x 2 = 2\n",
      "1 x 3 = 3\n",
      "1 x 4 = 4\n",
      "1 x 5 = 5\n",
      "2 x 1 = 2\n",
      "2 x 2 = 4\n",
      "2 x 3 = 6\n",
      "2 x 4 = 8\n",
      "2 x 5 = 10\n",
      "3 x 1 = 3\n",
      "3 x 2 = 6\n",
      "3 x 3 = 9\n",
      "3 x 4 = 12\n",
      "3 x 5 = 15\n",
      "4 x 1 = 4\n",
      "4 x 2 = 8\n",
      "4 x 3 = 12\n",
      "4 x 4 = 16\n",
      "4 x 5 = 20\n",
      "5 x 1 = 5\n",
      "5 x 2 = 10\n",
      "5 x 3 = 15\n",
      "5 x 4 = 20\n",
      "5 x 5 = 25\n"
     ]
    }
   ],
   "source": [
    "# multiplication table for 1-5 using nested loop\n",
    "for i in range(1, 6): # these are the left side\n",
    "    for j in range(1, 6): # these would be a cross the top\n",
    "        print(f'{i} x {j} = {i * j}')"
   ]
  },
  {
   "cell_type": "code",
   "execution_count": 58,
   "id": "09b874cd",
   "metadata": {},
   "outputs": [
    {
     "name": "stdout",
     "output_type": "stream",
     "text": [
      "1   2   3   4   5\n",
      "2   4   6   8  10\n",
      "3   6   9  12  15\n",
      "4   8  12  16  20\n",
      "5  10  15  20  25\n"
     ]
    }
   ],
   "source": [
    "# nicely formatted\n",
    "size = 5\n",
    "for i in range(1, size + 1):\n",
    "    print(f'{i}', end='') # row label\n",
    "    for j in range(2, size + 1):\n",
    "        # :>4 formats in right alignment to 4 characters\n",
    "        # end='' specifies the print to end with a space instead of newline\n",
    "        print(f'{i * j:>4}', end='')\n",
    "    print() # newline at the end of each row"
   ]
  },
  {
   "cell_type": "code",
   "execution_count": 62,
   "id": "92aead5c",
   "metadata": {},
   "outputs": [
    {
     "name": "stdout",
     "output_type": "stream",
     "text": [
      "Welcome to the Guess the Number Game!\n",
      "I'm thinking of a number between 1 and 100.\n",
      "Make a guess:1\n",
      "Higher!\n",
      "Make a guess:2\n",
      "Higher!\n",
      "Make a guess:50\n",
      "Higher!\n",
      "Make a guess:75\n",
      "Lower!\n",
      "Make a guess:62\n",
      "Lower!\n",
      "Make a guess:55\n",
      "Higher!\n",
      "Make a guess:58\n",
      "Higher!\n",
      "Make a guess:59\n",
      "Higher!\n",
      "Make a guess:60\n",
      "Correct!\n"
     ]
    }
   ],
   "source": [
    "# Guess the Number Game\n",
    "\n",
    "import random\n",
    "\n",
    "# Introducing the rules\n",
    "print(\"Welcome to the Guess the Number Game!\")\n",
    "print(\"I'm thinking of a number between 1 and 100.\")\n",
    "\n",
    "target_number = random.randint(1, 100)\n",
    "\n",
    "guess = None\n",
    "\n",
    "# create a loop to wait for user inputs\n",
    "while guess != target_number:\n",
    "    guess = int(input('Make a guess:'))\n",
    "    \n",
    "    if guess < target_number:\n",
    "        print('Higher!')\n",
    "    elif guess > target_number:\n",
    "        print('Lower!')\n",
    "    else: \n",
    "        print('Correct!')\n",
    "        "
   ]
  },
  {
   "cell_type": "code",
   "execution_count": 65,
   "id": "05458dab",
   "metadata": {},
   "outputs": [
    {
     "name": "stdout",
     "output_type": "stream",
     "text": [
      "Welcome to the Guess the Number Game!\n",
      "I'm thinking of a number between 1 and 100.\n",
      "Make a guess:50\n",
      "Higher!\n",
      "Make a guess:75\n",
      "Higher!\n",
      "Make a guess:87\n",
      "Higher!\n",
      "Make a guess:92\n",
      "Higher!\n",
      "Make a guess:97\n",
      "Lower!\n",
      "Make a guess:95\n",
      "Lower!\n",
      "Make a guess:94\n",
      "Correct!\n"
     ]
    }
   ],
   "source": [
    "# Guess the Number Game: Limited Guesses\n",
    "\n",
    "import random\n",
    "\n",
    "# Introducing the rules\n",
    "print(\"Welcome to the Guess the Number Game!\")\n",
    "print(\"I'm thinking of a number between 1 and 100.\")\n",
    "\n",
    "target_number = random.randint(1, 100)\n",
    "\n",
    "guess = None \n",
    "guesses_left = 10\n",
    "\n",
    "# create a loop to wait for user inputs\n",
    "while guesses_left > 0 and guess != target_number:\n",
    "    guess = int(input('Make a guess:'))\n",
    "    guesses_left -= 1 \n",
    "    \n",
    "    if guess < target_number:\n",
    "        print('Higher!')\n",
    "    elif guess > target_number:\n",
    "        print('Lower!')\n",
    "    else: \n",
    "        print('Correct!')\n",
    "        \n",
    "if guesses_left == 0 and guess != target_number: \n",
    "    print(f\"Sorry, you've run out of guesses. The number was {target_number}.\")"
   ]
  },
  {
   "cell_type": "code",
   "execution_count": 67,
   "id": "eff76b87",
   "metadata": {},
   "outputs": [
    {
     "name": "stdout",
     "output_type": "stream",
     "text": [
      "Welcome to the Guess the Number Game!\n",
      "I'm thinking of a number between 1 and 100.\n",
      "Make a guess: 50\n",
      "Higher!\n",
      "Make a guess: 75\n",
      "Lower!\n",
      "Make a guess: 60\n",
      "Higher!\n",
      "Make a guess: 70\n",
      "Higher!\n",
      "Make a guess: 72\n",
      "Correct!\n",
      "Would you like to play again+ (y/n): y\n",
      "Welcome to the Guess the Number Game!\n",
      "I'm thinking of a number between 1 and 100.\n",
      "Make a guess: 0\n",
      "Higher!\n",
      "Make a guess: 0\n",
      "Higher!\n",
      "Make a guess: 0\n",
      "Higher!\n",
      "Make a guess: 0\n",
      "Higher!\n",
      "Make a guess: 0\n",
      "Higher!\n",
      "Make a guess: 0\n",
      "Higher!\n",
      "Make a guess: 0\n",
      "Higher!\n",
      "Make a guess: 0\n",
      "Higher!\n",
      "Make a guess: 0\n",
      "Higher!\n",
      "Make a guess: 0\n",
      "Higher!\n",
      "Sorry, you've run out of guesses. The number was 93.\n",
      "Would you like to play again+ (y/n): n\n"
     ]
    }
   ],
   "source": [
    "# Limited Guess Guess the Number Game w/ restart option\n",
    "\n",
    "import random\n",
    "\n",
    "def play_game(): \n",
    "    print(\"Welcome to the Guess the Number Game!\")\n",
    "    print(\"I'm thinking of a number between 1 and 100.\")\n",
    "    target_number = random.randint(1, 100)\n",
    "    \n",
    "    guesses_left = 10\n",
    "    \n",
    "    while guesses_left > 0:\n",
    "        guess = int(input('Make a guess: '))\n",
    "        guesses_left -=1\n",
    "        \n",
    "        if guess < target_number: \n",
    "            print('Higher!')\n",
    "        elif guess > target_number: \n",
    "            print('Lower!')\n",
    "        else: \n",
    "            print('Correct!')\n",
    "            break\n",
    "            \n",
    "        if guesses_left ==0:\n",
    "            print(f\"Sorry, you've run out of guesses. The number was {target_number}.\")\n",
    "    play_again = input('Would you like to play again+ (y/n): ')\n",
    "    return play_again.lower() == 'y'\n",
    "\n",
    "# this outer loop allows the game to be restarted\n",
    "while True:\n",
    "    if not play_game():\n",
    "        break"
   ]
  },
  {
   "cell_type": "code",
   "execution_count": null,
   "id": "49b23e25",
   "metadata": {},
   "outputs": [],
   "source": []
  }
 ],
 "metadata": {
  "kernelspec": {
   "display_name": "Python 3 (ipykernel)",
   "language": "python",
   "name": "python3"
  },
  "language_info": {
   "codemirror_mode": {
    "name": "ipython",
    "version": 3
   },
   "file_extension": ".py",
   "mimetype": "text/x-python",
   "name": "python",
   "nbconvert_exporter": "python",
   "pygments_lexer": "ipython3",
   "version": "3.7.3"
  }
 },
 "nbformat": 4,
 "nbformat_minor": 5
}
